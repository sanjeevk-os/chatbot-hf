{
 "cells": [
  {
   "cell_type": "code",
   "execution_count": null,
   "metadata": {},
   "outputs": [],
   "source": [
    "!pip install transformers\n",
    "!pip install pyTelegramBotAPI\n",
    "!pip install wikipedia"
   ]
  },
  {
   "cell_type": "code",
   "execution_count": 1,
   "metadata": {},
   "outputs": [],
   "source": [
    "import transformers\n",
    "from transformers import pipeline\n",
    "import telebot\n",
    "import wikipedia"
   ]
  },
  {
   "cell_type": "code",
   "execution_count": 2,
   "metadata": {},
   "outputs": [],
   "source": [
    "# wikipedia.summary(\"databases\")\n",
    "token = 'XXXxxx' # replace with actual token\n",
    "bot = telebot.TeleBot(token, parse_mode=None)\n",
    "qap = pipeline('question-answering')"
   ]
  },
  {
   "cell_type": "code",
   "execution_count": 3,
   "metadata": {},
   "outputs": [],
   "source": [
    "class Responses:\n",
    "    status = -1\n",
    "    topic_message = \"\\nTell me a topic you want to know about.\\n\" \\\n",
    "                    \"Topic length should be less than 300. \"\n",
    "    qs_message = \"\\nAsk a question about this topic.\"\n",
    "    restart_message = \"\\nRestart ?\"\n",
    "    ctxt = \"\"\n",
    "    @classmethod\n",
    "    def clear_status(cls):\n",
    "        cls.status = -1\n",
    "        cls.ctxt = \"\""
   ]
  },
  {
   "cell_type": "code",
   "execution_count": 4,
   "metadata": {},
   "outputs": [],
   "source": [
    "Responses.clear_status()\n",
    "@bot.message_handler(func = lambda m:True)\n",
    "def reply_hi(message):\n",
    "    if Responses.status == -1 and 'hi' in message.text:\n",
    "        Responses.status = 0\n",
    "        bot.reply_to(message, Responses.topic_message)\n",
    "    elif Responses.status == 0:\n",
    "        Responses.status = 1\n",
    "        Responses.ctxt = wikipedia.summary(message.text)\n",
    "        # print(f'context for {message.text}:\\n {Responses.ctxt}')\n",
    "        bot.reply_to(message, Responses.qs_message)\n",
    "    elif Responses.status == 1:\n",
    "        qs = message.text\n",
    "        resp = qap(context = Responses.ctxt, question = qs)\n",
    "        # print(f'response:\\n {resp}')\n",
    "        Responses.status = 0\n",
    "        bot.reply_to(message, resp.get('answer', 'no answer found')+Responses.topic_message)"
   ]
  },
  {
   "cell_type": "code",
   "execution_count": null,
   "metadata": {},
   "outputs": [],
   "source": [
    "bot.polling()"
   ]
  },
  {
   "cell_type": "code",
   "execution_count": null,
   "metadata": {},
   "outputs": [],
   "source": []
  }
 ],
 "metadata": {
  "kernelspec": {
   "display_name": "Python 3",
   "language": "python",
   "name": "python3"
  },
  "language_info": {
   "codemirror_mode": {
    "name": "ipython",
    "version": 3
   },
   "file_extension": ".py",
   "mimetype": "text/x-python",
   "name": "python",
   "nbconvert_exporter": "python",
   "pygments_lexer": "ipython3",
   "version": "3.8.10"
  }
 },
 "nbformat": 4,
 "nbformat_minor": 4
}
